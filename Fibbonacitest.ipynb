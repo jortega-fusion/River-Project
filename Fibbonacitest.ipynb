{
 "cells": [
  {
   "cell_type": "code",
   "execution_count": null,
   "metadata": {},
   "outputs": [
    {
     "ename": "",
     "evalue": "",
     "output_type": "error",
     "traceback": [
      "\u001b[1;31mFailed to start the Kernel. \n",
      "\u001b[1;31mKernel Python 3.9.6 is not usable. Check the Jupyter output tab for more information. \n",
      "\u001b[1;31mView Jupyter <a href='command:jupyter.viewOutput'>log</a> for further details."
     ]
    }
   ],
   "source": [
    "def fibonnaci (n):\n",
    "    x = 0\n",
    "    term_before = 0\n",
    "    new_term = 1\n",
    "    fib_arr = []\n",
    "    for i in range (n-1):\n",
    "        new_term = x + term_before\n",
    "        fib_arr.append(new_term)\n",
    "        term_before = x\n",
    "        x = new_term\n",
    "        \n",
    "    print(fib_arr)\n",
    "    \n",
    "\n",
    "fibonnaci(4)\n",
    "\n"
   ]
  }
 ],
 "metadata": {
  "kernelspec": {
   "display_name": "Python 3",
   "language": "python",
   "name": "python3"
  },
  "language_info": {
   "name": "python",
   "version": "3.9.6"
  },
  "orig_nbformat": 4,
  "vscode": {
   "interpreter": {
    "hash": "31f2aee4e71d21fbe5cf8b01ff0e069b9275f58929596ceb00d14d90e3e16cd6"
   }
  }
 },
 "nbformat": 4,
 "nbformat_minor": 2
}
