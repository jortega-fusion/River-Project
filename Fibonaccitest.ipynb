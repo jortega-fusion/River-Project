{
 "cells": [
  {
   "cell_type": "code",
   "execution_count": 8,
   "metadata": {},
   "outputs": [
    {
     "name": "stdout",
     "output_type": "stream",
     "text": [
      "32951280098\n"
     ]
    }
   ],
   "source": [
    "def fibonacci (n):\n",
    "    x = 1\n",
    "    term_before = 0\n",
    "    new_term = 0\n",
    "    fib_arr = [1]\n",
    "    for i in range (n-1):\n",
    "        new_term = x + term_before\n",
    "        fib_arr.append(new_term)\n",
    "        term_before = x\n",
    "        x = new_term\n",
    "        \n",
    "    print(sum(fib_arr))\n",
    "\n",
    "    \n",
    "\n",
    "fibonacci(50)\n",
    "\n"
   ]
  }
 ],
 "metadata": {
  "kernelspec": {
   "display_name": "base",
   "language": "python",
   "name": "python3"
  },
  "language_info": {
   "codemirror_mode": {
    "name": "ipython",
    "version": 3
   },
   "file_extension": ".py",
   "mimetype": "text/x-python",
   "name": "python",
   "nbconvert_exporter": "python",
   "pygments_lexer": "ipython3",
   "version": "3.9.13"
  },
  "orig_nbformat": 4,
  "vscode": {
   "interpreter": {
    "hash": "a04c611d9c3c235ac687e73ff356c9601404ac806ec6ebdd41ba9f171ba219e9"
   }
  }
 },
 "nbformat": 4,
 "nbformat_minor": 2
}
